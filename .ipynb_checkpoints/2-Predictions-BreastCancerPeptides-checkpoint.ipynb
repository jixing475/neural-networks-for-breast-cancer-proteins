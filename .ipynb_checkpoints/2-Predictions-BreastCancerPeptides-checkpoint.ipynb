{
 "cells": [
  {
   "cell_type": "markdown",
   "metadata": {},
   "source": [
    "# Prediction of Breast Cancer peptides with the best MLP classifier"
   ]
  },
  {
   "cell_type": "code",
   "execution_count": 2,
   "metadata": {},
   "outputs": [],
   "source": [
    "%reload_ext autoreload\n",
    "%autoreload 2\n",
    "%matplotlib inline\n",
    "\n",
    "# remove warnings\n",
    "import warnings\n",
    "warnings.filterwarnings(\"ignore\", category=DeprecationWarning) "
   ]
  },
  {
   "cell_type": "code",
   "execution_count": 3,
   "metadata": {},
   "outputs": [],
   "source": [
    "import numpy as np\n",
    "import pandas as pd\n",
    "import time\n",
    "import matplotlib.pyplot as plt\n",
    "\n",
    "from sklearn.pipeline import Pipeline\n",
    "from sklearn.model_selection import cross_val_score, GridSearchCV, StratifiedKFold\n",
    "from sklearn.metrics import confusion_matrix,accuracy_score, roc_auc_score,f1_score, recall_score, precision_score\n",
    "from sklearn.utils import class_weight\n",
    "\n",
    "from sklearn.neighbors import KNeighborsClassifier\n",
    "from sklearn.linear_model import LogisticRegression, LassoCV\n",
    "from sklearn.tree import DecisionTreeClassifier\n",
    "from sklearn.ensemble import RandomForestClassifier, ExtraTreesClassifier\n",
    "from xgboost import XGBClassifier\n",
    "from sklearn.svm import SVC\n",
    "from sklearn.gaussian_process.kernels import RBF\n",
    "from sklearn.svm import LinearSVC\n",
    "\n",
    "from sklearn.decomposition import PCA\n",
    "from sklearn.preprocessing import StandardScaler, MinMaxScaler, RobustScaler\n",
    "from sklearn.feature_selection import RFECV, VarianceThreshold, SelectKBest, chi2\n",
    "from sklearn.feature_selection import SelectFromModel, SelectPercentile, f_classif\n",
    "\n",
    "import seaborn as sns; sns.set() # data visualization library \n",
    "from sklearn.discriminant_analysis import LinearDiscriminantAnalysis\n",
    "from sklearn.neural_network import MLPClassifier\n",
    "from sklearn.ensemble import GradientBoostingClassifier, BaggingClassifier, AdaBoostClassifier\n",
    "from sklearn.naive_bayes import BernoulliNB, GaussianNB\n",
    "from imblearn.over_sampling import SMOTE"
   ]
  },
  {
   "cell_type": "code",
   "execution_count": 4,
   "metadata": {},
   "outputs": [],
   "source": [
    "from myFunctions import *\n",
    "\n",
    "# define output variables\n",
    "outVar = 'Class'\n",
    "\n",
    "# define list of folds\n",
    "nfold = 3\n",
    "\n",
    "# define a label for output files\n",
    "label = 'Outer'\n",
    "\n",
    "seed = 74"
   ]
  },
  {
   "cell_type": "markdown",
   "metadata": {},
   "source": [
    "## Individual ML and preprocessing"
   ]
  },
  {
   "cell_type": "code",
   "execution_count": 5,
   "metadata": {},
   "outputs": [
    {
     "name": "stdout",
     "output_type": "stream",
     "text": [
      "\n",
      "-> Read dataset ./best_classifier/Mix_BreastCancer.csv\n"
     ]
    },
    {
     "ename": "FileNotFoundError",
     "evalue": "[Errno 2] File ./best_classifier/Mix_BreastCancer.csv does not exist: './best_classifier/Mix_BreastCancer.csv'",
     "output_type": "error",
     "traceback": [
      "\u001b[0;31m------------------------------------------------------------------\u001b[0m",
      "\u001b[0;31mFileNotFoundError\u001b[0m                Traceback (most recent call last)",
      "\u001b[0;32m<ipython-input-5-6336c8dd7468>\u001b[0m in \u001b[0;36m<module>\u001b[0;34m()\u001b[0m\n\u001b[1;32m      3\u001b[0m \u001b[0;34m\u001b[0m\u001b[0m\n\u001b[1;32m      4\u001b[0m \u001b[0mprint\u001b[0m\u001b[0;34m(\u001b[0m\u001b[0;34m'\\n-> Read dataset'\u001b[0m\u001b[0;34m,\u001b[0m \u001b[0msFile\u001b[0m\u001b[0;34m)\u001b[0m\u001b[0;34m\u001b[0m\u001b[0;34m\u001b[0m\u001b[0m\n\u001b[0;32m----> 5\u001b[0;31m \u001b[0mdf\u001b[0m \u001b[0;34m=\u001b[0m \u001b[0mpd\u001b[0m\u001b[0;34m.\u001b[0m\u001b[0mread_csv\u001b[0m\u001b[0;34m(\u001b[0m\u001b[0msFile\u001b[0m\u001b[0;34m)\u001b[0m\u001b[0;34m\u001b[0m\u001b[0;34m\u001b[0m\u001b[0m\n\u001b[0m\u001b[1;32m      6\u001b[0m \u001b[0mprint\u001b[0m\u001b[0;34m(\u001b[0m\u001b[0mlen\u001b[0m\u001b[0;34m(\u001b[0m\u001b[0mdf\u001b[0m\u001b[0;34m.\u001b[0m\u001b[0mcolumns\u001b[0m\u001b[0;34m)\u001b[0m\u001b[0;34m)\u001b[0m\u001b[0;34m\u001b[0m\u001b[0;34m\u001b[0m\u001b[0m\n",
      "\u001b[0;32m/Users/zero/anaconda3/envs/vs/lib/python3.7/site-packages/pandas/io/parsers.py\u001b[0m in \u001b[0;36mparser_f\u001b[0;34m(filepath_or_buffer, sep, delimiter, header, names, index_col, usecols, squeeze, prefix, mangle_dupe_cols, dtype, engine, converters, true_values, false_values, skipinitialspace, skiprows, skipfooter, nrows, na_values, keep_default_na, na_filter, verbose, skip_blank_lines, parse_dates, infer_datetime_format, keep_date_col, date_parser, dayfirst, cache_dates, iterator, chunksize, compression, thousands, decimal, lineterminator, quotechar, quoting, doublequote, escapechar, comment, encoding, dialect, error_bad_lines, warn_bad_lines, delim_whitespace, low_memory, memory_map, float_precision)\u001b[0m\n\u001b[1;32m    674\u001b[0m         )\n\u001b[1;32m    675\u001b[0m \u001b[0;34m\u001b[0m\u001b[0m\n\u001b[0;32m--> 676\u001b[0;31m         \u001b[0;32mreturn\u001b[0m \u001b[0m_read\u001b[0m\u001b[0;34m(\u001b[0m\u001b[0mfilepath_or_buffer\u001b[0m\u001b[0;34m,\u001b[0m \u001b[0mkwds\u001b[0m\u001b[0;34m)\u001b[0m\u001b[0;34m\u001b[0m\u001b[0;34m\u001b[0m\u001b[0m\n\u001b[0m\u001b[1;32m    677\u001b[0m \u001b[0;34m\u001b[0m\u001b[0m\n\u001b[1;32m    678\u001b[0m     \u001b[0mparser_f\u001b[0m\u001b[0;34m.\u001b[0m\u001b[0m__name__\u001b[0m \u001b[0;34m=\u001b[0m \u001b[0mname\u001b[0m\u001b[0;34m\u001b[0m\u001b[0;34m\u001b[0m\u001b[0m\n",
      "\u001b[0;32m/Users/zero/anaconda3/envs/vs/lib/python3.7/site-packages/pandas/io/parsers.py\u001b[0m in \u001b[0;36m_read\u001b[0;34m(filepath_or_buffer, kwds)\u001b[0m\n\u001b[1;32m    446\u001b[0m \u001b[0;34m\u001b[0m\u001b[0m\n\u001b[1;32m    447\u001b[0m     \u001b[0;31m# Create the parser.\u001b[0m\u001b[0;34m\u001b[0m\u001b[0;34m\u001b[0m\u001b[0;34m\u001b[0m\u001b[0m\n\u001b[0;32m--> 448\u001b[0;31m     \u001b[0mparser\u001b[0m \u001b[0;34m=\u001b[0m \u001b[0mTextFileReader\u001b[0m\u001b[0;34m(\u001b[0m\u001b[0mfp_or_buf\u001b[0m\u001b[0;34m,\u001b[0m \u001b[0;34m**\u001b[0m\u001b[0mkwds\u001b[0m\u001b[0;34m)\u001b[0m\u001b[0;34m\u001b[0m\u001b[0;34m\u001b[0m\u001b[0m\n\u001b[0m\u001b[1;32m    449\u001b[0m \u001b[0;34m\u001b[0m\u001b[0m\n\u001b[1;32m    450\u001b[0m     \u001b[0;32mif\u001b[0m \u001b[0mchunksize\u001b[0m \u001b[0;32mor\u001b[0m \u001b[0miterator\u001b[0m\u001b[0;34m:\u001b[0m\u001b[0;34m\u001b[0m\u001b[0;34m\u001b[0m\u001b[0m\n",
      "\u001b[0;32m/Users/zero/anaconda3/envs/vs/lib/python3.7/site-packages/pandas/io/parsers.py\u001b[0m in \u001b[0;36m__init__\u001b[0;34m(self, f, engine, **kwds)\u001b[0m\n\u001b[1;32m    878\u001b[0m             \u001b[0mself\u001b[0m\u001b[0;34m.\u001b[0m\u001b[0moptions\u001b[0m\u001b[0;34m[\u001b[0m\u001b[0;34m\"has_index_names\"\u001b[0m\u001b[0;34m]\u001b[0m \u001b[0;34m=\u001b[0m \u001b[0mkwds\u001b[0m\u001b[0;34m[\u001b[0m\u001b[0;34m\"has_index_names\"\u001b[0m\u001b[0;34m]\u001b[0m\u001b[0;34m\u001b[0m\u001b[0;34m\u001b[0m\u001b[0m\n\u001b[1;32m    879\u001b[0m \u001b[0;34m\u001b[0m\u001b[0m\n\u001b[0;32m--> 880\u001b[0;31m         \u001b[0mself\u001b[0m\u001b[0;34m.\u001b[0m\u001b[0m_make_engine\u001b[0m\u001b[0;34m(\u001b[0m\u001b[0mself\u001b[0m\u001b[0;34m.\u001b[0m\u001b[0mengine\u001b[0m\u001b[0;34m)\u001b[0m\u001b[0;34m\u001b[0m\u001b[0;34m\u001b[0m\u001b[0m\n\u001b[0m\u001b[1;32m    881\u001b[0m \u001b[0;34m\u001b[0m\u001b[0m\n\u001b[1;32m    882\u001b[0m     \u001b[0;32mdef\u001b[0m \u001b[0mclose\u001b[0m\u001b[0;34m(\u001b[0m\u001b[0mself\u001b[0m\u001b[0;34m)\u001b[0m\u001b[0;34m:\u001b[0m\u001b[0;34m\u001b[0m\u001b[0;34m\u001b[0m\u001b[0m\n",
      "\u001b[0;32m/Users/zero/anaconda3/envs/vs/lib/python3.7/site-packages/pandas/io/parsers.py\u001b[0m in \u001b[0;36m_make_engine\u001b[0;34m(self, engine)\u001b[0m\n\u001b[1;32m   1112\u001b[0m     \u001b[0;32mdef\u001b[0m \u001b[0m_make_engine\u001b[0m\u001b[0;34m(\u001b[0m\u001b[0mself\u001b[0m\u001b[0;34m,\u001b[0m \u001b[0mengine\u001b[0m\u001b[0;34m=\u001b[0m\u001b[0;34m\"c\"\u001b[0m\u001b[0;34m)\u001b[0m\u001b[0;34m:\u001b[0m\u001b[0;34m\u001b[0m\u001b[0;34m\u001b[0m\u001b[0m\n\u001b[1;32m   1113\u001b[0m         \u001b[0;32mif\u001b[0m \u001b[0mengine\u001b[0m \u001b[0;34m==\u001b[0m \u001b[0;34m\"c\"\u001b[0m\u001b[0;34m:\u001b[0m\u001b[0;34m\u001b[0m\u001b[0;34m\u001b[0m\u001b[0m\n\u001b[0;32m-> 1114\u001b[0;31m             \u001b[0mself\u001b[0m\u001b[0;34m.\u001b[0m\u001b[0m_engine\u001b[0m \u001b[0;34m=\u001b[0m \u001b[0mCParserWrapper\u001b[0m\u001b[0;34m(\u001b[0m\u001b[0mself\u001b[0m\u001b[0;34m.\u001b[0m\u001b[0mf\u001b[0m\u001b[0;34m,\u001b[0m \u001b[0;34m**\u001b[0m\u001b[0mself\u001b[0m\u001b[0;34m.\u001b[0m\u001b[0moptions\u001b[0m\u001b[0;34m)\u001b[0m\u001b[0;34m\u001b[0m\u001b[0;34m\u001b[0m\u001b[0m\n\u001b[0m\u001b[1;32m   1115\u001b[0m         \u001b[0;32melse\u001b[0m\u001b[0;34m:\u001b[0m\u001b[0;34m\u001b[0m\u001b[0;34m\u001b[0m\u001b[0m\n\u001b[1;32m   1116\u001b[0m             \u001b[0;32mif\u001b[0m \u001b[0mengine\u001b[0m \u001b[0;34m==\u001b[0m \u001b[0;34m\"python\"\u001b[0m\u001b[0;34m:\u001b[0m\u001b[0;34m\u001b[0m\u001b[0;34m\u001b[0m\u001b[0m\n",
      "\u001b[0;32m/Users/zero/anaconda3/envs/vs/lib/python3.7/site-packages/pandas/io/parsers.py\u001b[0m in \u001b[0;36m__init__\u001b[0;34m(self, src, **kwds)\u001b[0m\n\u001b[1;32m   1889\u001b[0m         \u001b[0mkwds\u001b[0m\u001b[0;34m[\u001b[0m\u001b[0;34m\"usecols\"\u001b[0m\u001b[0;34m]\u001b[0m \u001b[0;34m=\u001b[0m \u001b[0mself\u001b[0m\u001b[0;34m.\u001b[0m\u001b[0musecols\u001b[0m\u001b[0;34m\u001b[0m\u001b[0;34m\u001b[0m\u001b[0m\n\u001b[1;32m   1890\u001b[0m \u001b[0;34m\u001b[0m\u001b[0m\n\u001b[0;32m-> 1891\u001b[0;31m         \u001b[0mself\u001b[0m\u001b[0;34m.\u001b[0m\u001b[0m_reader\u001b[0m \u001b[0;34m=\u001b[0m \u001b[0mparsers\u001b[0m\u001b[0;34m.\u001b[0m\u001b[0mTextReader\u001b[0m\u001b[0;34m(\u001b[0m\u001b[0msrc\u001b[0m\u001b[0;34m,\u001b[0m \u001b[0;34m**\u001b[0m\u001b[0mkwds\u001b[0m\u001b[0;34m)\u001b[0m\u001b[0;34m\u001b[0m\u001b[0;34m\u001b[0m\u001b[0m\n\u001b[0m\u001b[1;32m   1892\u001b[0m         \u001b[0mself\u001b[0m\u001b[0;34m.\u001b[0m\u001b[0munnamed_cols\u001b[0m \u001b[0;34m=\u001b[0m \u001b[0mself\u001b[0m\u001b[0;34m.\u001b[0m\u001b[0m_reader\u001b[0m\u001b[0;34m.\u001b[0m\u001b[0munnamed_cols\u001b[0m\u001b[0;34m\u001b[0m\u001b[0;34m\u001b[0m\u001b[0m\n\u001b[1;32m   1893\u001b[0m \u001b[0;34m\u001b[0m\u001b[0m\n",
      "\u001b[0;32mpandas/_libs/parsers.pyx\u001b[0m in \u001b[0;36mpandas._libs.parsers.TextReader.__cinit__\u001b[0;34m()\u001b[0m\n",
      "\u001b[0;32mpandas/_libs/parsers.pyx\u001b[0m in \u001b[0;36mpandas._libs.parsers.TextReader._setup_parser_source\u001b[0;34m()\u001b[0m\n",
      "\u001b[0;31mFileNotFoundError\u001b[0m: [Errno 2] File ./best_classifier/Mix_BreastCancer.csv does not exist: './best_classifier/Mix_BreastCancer.csv'"
     ]
    }
   ],
   "source": [
    "# read dataset for the best model (it will generate: Mix-Best300)\n",
    "sFile = './best_classifier/Mix_BreastCancer.csv'\n",
    "\n",
    "print('\\n-> Read dataset', sFile)\n",
    "df = pd.read_csv(sFile)\n",
    "print(len(df.columns))"
   ]
  },
  {
   "cell_type": "markdown",
   "metadata": {},
   "source": [
    "### Preprocessing"
   ]
  },
  {
   "cell_type": "code",
   "execution_count": 61,
   "metadata": {},
   "outputs": [
    {
     "name": "stdout",
     "output_type": "stream",
     "text": [
      "\n",
      "-> Modify dataset\n",
      "Done!\n",
      "8742\n",
      "\n",
      "-> Drop ProtID column\n",
      "Done!\n",
      "8741\n",
      "\n",
      "-> Checking dataset\n",
      "\n",
      "Data points = 376\n",
      "\n",
      "Columns (output + features)= 8741\n",
      "\n",
      "Data types = [dtype('float64') dtype('int64')]\n",
      "\n",
      "\n",
      "Column Names:\n",
      " Index(['A', 'R', 'N', 'D', 'C', 'E', 'Q', 'G', 'H', 'I',\n",
      "       ...\n",
      "       'DAYM780201.lag22', 'DAYM780201.lag23', 'DAYM780201.lag24',\n",
      "       'DAYM780201.lag25', 'DAYM780201.lag26', 'DAYM780201.lag27',\n",
      "       'DAYM780201.lag28', 'DAYM780201.lag29', 'DAYM780201.lag30', 'Class'],\n",
      "      dtype='object', length=8741)\n",
      "\n",
      "Categorical features: []\n",
      "\n",
      "Columns with NaN:  0  /  8741\n",
      "\n",
      "No of data points with NaN: 0  /  376\n",
      "Done!\n",
      "\n",
      "-> Dataset preprocessing\n",
      "Inicial shape: (376, 8741)\n",
      "Data points = 376\n",
      "Columns (output + features)= 8741\n",
      "Data types = [dtype('float64') dtype('int64')]\n",
      "\n",
      "\n",
      "Column Names:\n",
      " Index(['A', 'R', 'N', 'D', 'C', 'E', 'Q', 'G', 'H', 'I',\n",
      "       ...\n",
      "       'DAYM780201.lag22', 'DAYM780201.lag23', 'DAYM780201.lag24',\n",
      "       'DAYM780201.lag25', 'DAYM780201.lag26', 'DAYM780201.lag27',\n",
      "       'DAYM780201.lag28', 'DAYM780201.lag29', 'DAYM780201.lag30', 'Class'],\n",
      "      dtype='object', length=8741)\n",
      "Categorical features: []\n",
      "Columns with NaN:  0  /  8741\n",
      "No of data points with NaN: 0  /  376\n",
      "* Remove duplicates\n",
      "Final shape: (376, 8741)\n",
      "Done!\n",
      "8741\n",
      "\n",
      "-> Get X & Y data, Features list\n",
      "Shape (376, 8741)\n",
      "Shape X data: (376, 8740)\n",
      "Shape Y data: (376,)\n",
      "Done!\n",
      "\n",
      "-> Remove zero variance features\n",
      "Removed features: ['HWF', 'CNW', 'IHW', 'YCW', 'AWW', 'PWY', 'WCH', 'WMW', 'WWV', 'MYM', 'WGC', 'WHH', 'MWP', 'MWH', 'WQM', 'HWW', 'VMW', 'WWH', 'WWC', 'NWH', 'WCC', 'IWW', 'WWM', 'WHD', 'YWW', 'CMH', 'MWW', 'CMW', 'WIW', 'QWW', 'WMF', 'WCK']\n",
      "Done!\n"
     ]
    }
   ],
   "source": [
    "# Clean columns (remove all extra columns but keep ProtID!)\n",
    "df = ClearDatasets(df)\n",
    "print(len(df.columns))\n",
    "\n",
    "# drop ProtID to have only descriptors + Class (raw dataset)\n",
    "print('\\n-> Drop ProtID column')\n",
    "df= df.drop(['ProtID'],axis = 1)\n",
    "print('Done!')\n",
    "print(len(df.columns))\n",
    "\n",
    "# Check dataset\n",
    "DataCheckings(df)\n",
    "\n",
    "# Dataset preprocessing\n",
    "df = DataPreprocessing(df)\n",
    "print(len(df.columns))\n",
    "\n",
    "# Remove zero variance columns\n",
    "df = Remove0VarCols(df)"
   ]
  },
  {
   "cell_type": "code",
   "execution_count": 62,
   "metadata": {},
   "outputs": [
    {
     "data": {
      "text/plain": [
       "(376, 8709)"
      ]
     },
     "execution_count": 62,
     "metadata": {},
     "output_type": "execute_result"
    }
   ],
   "source": [
    "df.shape"
   ]
  },
  {
   "cell_type": "code",
   "execution_count": 63,
   "metadata": {},
   "outputs": [
    {
     "name": "stdout",
     "output_type": "stream",
     "text": [
      "\n",
      "-> Save raw dataset: ./best_classifier/Mix_BreastCancer.ds_raw.csv\n",
      "Done!\n"
     ]
    }
   ],
   "source": [
    "# Save initial ds\n",
    "rawFile = sFile[:-4]+'.ds_raw.csv'\n",
    "print('\\n-> Save raw dataset:',rawFile)\n",
    "df.to_csv(rawFile, index=False)\n",
    "print('Done!')"
   ]
  },
  {
   "cell_type": "code",
   "execution_count": 64,
   "metadata": {},
   "outputs": [
    {
     "name": "stdout",
     "output_type": "stream",
     "text": [
      "\n",
      "-> Read dataset ./best_classifier/Screening_3_RBPs.csv\n",
      "8741\n"
     ]
    }
   ],
   "source": [
    "# read the prediction file with the same descriptors (all from Mix)\n",
    "# read dataset for the best model (it will generate: Mix-Best300)\n",
    "sFilep = './best_classifier/Screening_3_RBPs.csv' \n",
    "# Screening_1_Metastasis.csv, Screening_2_Cancer_Immunotherapy_Genes.csv\n",
    "\n",
    "print('\\n-> Read dataset', sFilep)\n",
    "dfp = pd.read_csv(sFilep)\n",
    "print(len(dfp.columns))"
   ]
  },
  {
   "cell_type": "code",
   "execution_count": 65,
   "metadata": {},
   "outputs": [
    {
     "name": "stdout",
     "output_type": "stream",
     "text": [
      "\n",
      "-> Checking dataset\n",
      "\n",
      "Data points = 1369\n",
      "\n",
      "Columns (output + features)= 8741\n",
      "\n",
      "Data types = [dtype('float64') dtype('int64')]\n",
      "\n",
      "\n",
      "Column Names:\n",
      " Index(['A', 'R', 'N', 'D', 'C', 'E', 'Q', 'G', 'H', 'I',\n",
      "       ...\n",
      "       'Pc2.Hydrophilicity.26', 'Pc2.Hydrophobicity.27',\n",
      "       'Pc2.Hydrophilicity.27', 'Pc2.Hydrophobicity.28',\n",
      "       'Pc2.Hydrophilicity.28', 'Pc2.Hydrophobicity.29',\n",
      "       'Pc2.Hydrophilicity.29', 'Pc2.Hydrophobicity.30',\n",
      "       'Pc2.Hydrophilicity.30', 'Class'],\n",
      "      dtype='object', length=8741)\n",
      "\n",
      "Categorical features: []\n",
      "\n",
      "Columns with NaN:  0  /  8741\n",
      "\n",
      "No of data points with NaN: 0  /  1369\n",
      "Done!\n",
      "0\n"
     ]
    }
   ],
   "source": [
    "# Preprocessing of prediction file\n",
    "# Clean columns (remove all extra columns but keep ProtID!)\n",
    "#df = ClearDatasets(df)\n",
    "#print(len(df.columns))\n",
    "\n",
    "# drop ProtID to have only descriptors + Class (raw dataset)\n",
    "#print('\\n-> Drop ProtID column')\n",
    "#df= df.drop(['ProtID'],axis = 1)\n",
    "#print('Done!')\n",
    "#print(len(df.columns))\n",
    "\n",
    "# Check dataset\n",
    "print(DataCheckings(dfp))"
   ]
  },
  {
   "cell_type": "code",
   "execution_count": 66,
   "metadata": {},
   "outputs": [
    {
     "data": {
      "text/plain": [
       "(1369, 8709)"
      ]
     },
     "execution_count": 66,
     "metadata": {},
     "output_type": "execute_result"
    }
   ],
   "source": [
    "# Select the same features as the dataset\n",
    "dfp = dfp[list(df.columns)]\n",
    "dfp.shape"
   ]
  },
  {
   "cell_type": "code",
   "execution_count": 67,
   "metadata": {},
   "outputs": [
    {
     "name": "stdout",
     "output_type": "stream",
     "text": [
      "\n",
      "-> Get X & Y data, Features list\n",
      "Shape (376, 8709)\n",
      "Shape X data: (376, 8708)\n",
      "Shape Y data: (376,)\n",
      "Done!\n",
      "\n",
      "-> Get X & Y data, Features list\n",
      "Shape (1369, 8709)\n",
      "Shape X data: (1369, 8708)\n",
      "Shape Y data: (1369,)\n",
      "Done!\n",
      "* Save scaler: ./best_classifier/Mix_BreastCancer.scaler_Std.pkl\n",
      "* Save scaled dataset: ./best_classifier/Mix_BreastCancer.ds_std.csv\n",
      "* Save scaled dataset: ./best_classifier/Screening_3_RBPs.ds_std.csv\n",
      "Done!\n"
     ]
    }
   ],
   "source": [
    "# Scale raw dataframe\n",
    "# scale dataframe, save scaled file, save scaler\n",
    "Xdata, Ydata, Features = getDataFromDataFrame(df)# out var = Class\n",
    "Xdatap, Ydatap, Featuresp = getDataFromDataFrame(dfp)# prediction data\n",
    "\n",
    "# Normalize dataset & prediction set\n",
    "scaler = MinMaxScaler()\n",
    "Xdata = scaler.fit_transform(Xdata)\n",
    "Xdatap = scaler.transform(Xdatap) # scaler prediction data with the same scaler\n",
    "\n",
    "df = pd.DataFrame(Xdata,columns=Features)\n",
    "df['Class'] = Ydata # add class column\n",
    "\n",
    "dfp = pd.DataFrame(Xdatap,columns=Featuresp)\n",
    "dfp['Class'] = Ydatap # add class column\n",
    "\n",
    "scalerFile = sFile[:-4]+'.scaler_Std.pkl'\n",
    "print('* Save scaler:', scalerFile)\n",
    "joblib.dump(scaler, scalerFile) \n",
    "\n",
    "# Save initial ds\n",
    "scaledFile = sFile[:-4]+'.ds_std.csv'\n",
    "print('* Save scaled dataset:', scaledFile)\n",
    "df.to_csv(scaledFile, index=False)\n",
    "\n",
    "# Save initial ds for predictions\n",
    "scaledFilep = sFilep[:-4]+'.ds_std.csv'\n",
    "print('* Save scaled dataset:', scaledFilep)\n",
    "dfp.to_csv(scaledFilep, index=False)\n",
    "\n",
    "print('Done!')"
   ]
  },
  {
   "cell_type": "code",
   "execution_count": 68,
   "metadata": {},
   "outputs": [
    {
     "name": "stdout",
     "output_type": "stream",
     "text": [
      "\n",
      "-> Get X & Y data, Features list\n",
      "Shape (376, 8709)\n",
      "Shape X data: (376, 8708)\n",
      "Shape Y data: (376,)\n",
      "Done!\n",
      "\n",
      "-> Univariate Feature selection\n",
      "* Save selector: ./best_classifier/Mix_BreastCancer.featSelector_Univariate300.pkl\n",
      "Final columns: ['MN', 'LG', 'QI', 'NK', 'EM', 'QM', 'MM', 'EY', 'FAA', 'FNA', 'PNA', 'MDA', 'YHA', 'YKA', 'WFA', 'GPA', 'NTA', 'EYA', 'PAR', 'QDR', 'KER', 'SQR', 'QGR', 'LLR', 'HKR', 'TKR', 'TMR', 'YMR', 'MFR', 'EAN', 'HAN', 'MRN', 'SNN', 'EDN', 'QCN', 'QQN', 'GQN', 'PGN', 'IHN', 'NKN', 'HKN', 'LKN', 'AMN', 'TMN', 'VMN', 'MPN', 'PSN', 'YTN', 'KWN', 'PWN', 'EYN', 'PYN', 'LVN', 'PVN', 'SVN', 'VAD', 'HRD', 'IND', 'PDD', 'IQD', 'NHD', 'YHD', 'NID', 'HFD', 'ITD', 'RYD', 'IYD', 'QRC', 'DNC', 'SNC', 'MDC', 'AQC', 'CGC', 'MGC', 'VHC', 'CKC', 'IKC', 'SKC', 'MMC', 'PFC', 'MPC', 'MVC', 'FVC', 'FDE', 'YDE', 'SQE', 'TQE', 'RHE', 'MHE', 'HIE', 'FKE', 'EME', 'QME', 'LME', 'MME', 'VME', 'SFE', 'DAQ', 'TNQ', 'IDQ', 'DCQ', 'KCQ', 'GLQ', 'FKQ', 'AMQ', 'CMQ', 'VPQ', 'PSQ', 'IWQ', 'YWQ', 'CYQ', 'IAG', 'PAG', 'MNG', 'VGG', 'ALG', 'FLG', 'VLG', 'WMG', 'DFG', 'PFG', 'CTG', 'FWG', 'PWG', 'TVG', 'FAH', 'INH', 'PCH', 'VQH', 'CGH', 'CKH', 'IKH', 'SKH', 'MFH', 'WFH', 'HTH', 'RWH', 'FWH', 'GYH', 'RVH', 'KRI', 'MRI', 'AQI', 'LQI', 'NHI', 'NII', 'QII', 'CKI', 'YKI', 'IPI', 'WSI', 'EYI', 'LYI', 'MVI', 'RDL', 'TCL', 'CQL', 'HQL', 'MQL', 'GGL', 'LGL', 'HLL', 'HML', 'QWL', 'EYL', 'GVL', 'IVL', 'HAK', 'KNK', 'VNK', 'SCK', 'TQK', 'KHK', 'VHK', 'QIK', 'PIK', 'DLK', 'MMK', 'EPK', 'HTK', 'CWK', 'DVK', 'WAM', 'HRM', 'QNM', 'PNM', 'VDM', 'AEM', 'EEM', 'QQM', 'QGM', 'RIM', 'CIM', 'QLM', 'ILM', 'HKM', 'AMM', 'NMM', 'CFM', 'NTM', 'TTM', 'VTM', 'CWM', 'EWM', 'FYM', 'TAF', 'YCF', 'AEF', 'RQF', 'VGF', 'PKF', 'AMF', 'YFF', 'HTF', 'GYF', 'DAP', 'MNP', 'SNP', 'RGP', 'QGP', 'PGP', 'VGP', 'WLP', 'DKP', 'IKP', 'LKP', 'CMP', 'IFP', 'QTP', 'KTP', 'IWP', 'MNS', 'KQS', 'WGS', 'CHS', 'MMS', 'TMS', 'LNT', 'DCT', 'CQT', 'PQT', 'FHT', 'IIT', 'PIT', 'GLT', 'MLT', 'VLT', 'MKT', 'WKT', 'TMT', 'IFT', 'MPT', 'EWT', 'QWT', 'KWT', 'EYT', 'GAW', 'LNW', 'ADW', 'HCW', 'NEW', 'EEW', 'YEW', 'DQW', 'QHW', 'GIW', 'HIW', 'LLW', 'IKW', 'VKW', 'FPW', 'RTW', 'VTW', 'WYW', 'DVW', 'SVW', 'NDY', 'PDY', 'ECY', 'GCY', 'MEY', 'TEY', 'EIY', 'KIY', 'PIY', 'EMY', 'MPY', 'TPY', 'HWY', 'KNV', 'VNV', 'NDV', 'KCV', 'GHV', 'GLV', 'MMV', 'VFV', 'IYV', 'Pc1.N', 'Pc1.M', 'Class']\n",
      "* Save selected features dataset: ./best_classifier/Mix_BreastCancer.ds_sel.csv\n",
      "* Save selected features dataset: ./best_classifier/Screening_3_RBPs.ds_sel.csv\n",
      "Done!\n"
     ]
    }
   ],
   "source": [
    "nFeats = 300\n",
    "\n",
    "Xdata, Ydata, Features = getDataFromDataFrame(df)# out var = Class\n",
    "\n",
    "print('\\n-> Univariate Feature selection')\n",
    "selector= SelectKBest(chi2, k=nFeats)\n",
    "Xdata = selector.fit_transform(Xdata, Ydata)\n",
    "    \n",
    "selectorFile = sFile[:-4]+'.featSelector_Univariate'+str(nFeats)+'.pkl'\n",
    "print('* Save selector:', selectorFile)\n",
    "joblib.dump(selector, selectorFile) \n",
    "    \n",
    "# Selected features\n",
    "SelFeatures = []\n",
    "for i in selector.get_support(indices=True):\n",
    "    SelFeatures.append(Features[i])\n",
    "        \n",
    "# create the resulted dataframe\n",
    "df = pd.DataFrame(Xdata,columns=SelFeatures)\n",
    "df['Class'] = Ydata # add class column\n",
    "print('Final columns:', list(df.columns))\n",
    "    \n",
    "# Save selected feature ds\n",
    "selectFile = sFile[:-4]+'.ds_sel.csv'\n",
    "print('* Save selected features dataset:', selectFile)\n",
    "df.to_csv(selectFile, index=False)\n",
    "\n",
    "# create the resulted dataframe for predictions\n",
    "dfp = dfp[list(df.columns)]\n",
    "    \n",
    "# Save selected feature ds\n",
    "selectFilep = sFilep[:-4]+'.ds_sel.csv'\n",
    "print('* Save selected features dataset:', selectFilep)\n",
    "dfp.to_csv(selectFilep, index=False)\n",
    "    \n",
    "print('Done!')"
   ]
  },
  {
   "cell_type": "code",
   "execution_count": 69,
   "metadata": {},
   "outputs": [
    {
     "data": {
      "text/plain": [
       "(376, 301)"
      ]
     },
     "execution_count": 69,
     "metadata": {},
     "output_type": "execute_result"
    }
   ],
   "source": [
    "df.shape"
   ]
  },
  {
   "cell_type": "code",
   "execution_count": 70,
   "metadata": {},
   "outputs": [
    {
     "data": {
      "text/plain": [
       "(1369, 301)"
      ]
     },
     "execution_count": 70,
     "metadata": {},
     "output_type": "execute_result"
    }
   ],
   "source": [
    "dfp.shape"
   ]
  },
  {
   "cell_type": "code",
   "execution_count": 71,
   "metadata": {},
   "outputs": [
    {
     "name": "stdout",
     "output_type": "stream",
     "text": [
      "\n",
      "-> Get X & Y data, Features list\n",
      "Shape (376, 301)\n",
      "Shape X data: (376, 300)\n",
      "Shape Y data: (376,)\n",
      "Done!\n",
      "\n",
      "-> Dataframe SMOTE balancing\n",
      "Initial dimensions: (376, 301)\n",
      "Final shape: (466, 301)\n",
      "* Save balanced dataset: ./best_classifier/Mix_BreastCancer.ds_bal.csv\n",
      "Done!\n"
     ]
    }
   ],
   "source": [
    "# Balancing dataframe using SMOTE\n",
    "df = SMOTEdf(df,sFile,seed)"
   ]
  },
  {
   "cell_type": "code",
   "execution_count": 44,
   "metadata": {},
   "outputs": [
    {
     "data": {
      "text/plain": [
       "(466, 301)"
      ]
     },
     "execution_count": 44,
     "metadata": {},
     "output_type": "execute_result"
    }
   ],
   "source": [
    "df.shape"
   ]
  },
  {
   "cell_type": "markdown",
   "metadata": {},
   "source": [
    "### ML"
   ]
  },
  {
   "cell_type": "code",
   "execution_count": 72,
   "metadata": {},
   "outputs": [
    {
     "name": "stdout",
     "output_type": "stream",
     "text": [
      "\n",
      "-> Get X & Y data, Features list\n",
      "Shape (466, 301)\n",
      "Shape X data: (466, 300)\n",
      "Shape Y data: (466,)\n",
      "Done!\n"
     ]
    }
   ],
   "source": [
    "# get ds for ML\n",
    "Xdata, Ydata, Features = getDataFromDataFrame(df)# out var = Class "
   ]
  },
  {
   "cell_type": "code",
   "execution_count": 73,
   "metadata": {},
   "outputs": [
    {
     "name": "stdout",
     "output_type": "stream",
     "text": [
      "Class weights =  {0: 1.0, 1: 1.0}\n"
     ]
    }
   ],
   "source": [
    "# Calculate class weights\n",
    "class_weights = set_weights(Ydata)\n",
    "print(\"Class weights = \", class_weights)"
   ]
  },
  {
   "cell_type": "code",
   "execution_count": 74,
   "metadata": {},
   "outputs": [],
   "source": [
    "outer_cv = StratifiedKFold(n_splits=3,shuffle=True,random_state=seed)"
   ]
  },
  {
   "cell_type": "code",
   "execution_count": 75,
   "metadata": {},
   "outputs": [
    {
     "name": "stdout",
     "output_type": "stream",
     "text": [
      "Fold = 1\n",
      "AUROC= 0.9837278106508875 ACC= 0.9358974358974359 0.013615576426188152 mins\n",
      "Fold = 2\n",
      "AUROC= 0.9807692307692308 ACC= 0.9423076923076923 0.017777299880981444 mins\n",
      "Fold = 3\n",
      "AUROC= 0.9748692865575983 ACC= 0.9285714285714286 0.028612228234608968 mins\n"
     ]
    }
   ],
   "source": [
    "ifold = 0\n",
    "ACCs  =[]\n",
    "AUROCs=[]\n",
    "models =[]\n",
    "SelectedFeatures =[]\n",
    "\n",
    "for train_index, test_index in outer_cv.split(Xdata, Ydata):\n",
    "    ifold +=1\n",
    "    \n",
    "    print(\"Fold =\",ifold)\n",
    "    start = time.time()\n",
    "    \n",
    "    #print(\"TRAIN:\", train_index, \"TEST:\", test_index)\n",
    "    X_train, X_test = Xdata[train_index], Xdata[test_index]\n",
    "    y_train, y_test = Ydata[train_index], Ydata[test_index]\n",
    "\n",
    "    #scaler.transform(X_test)\n",
    "    clf = MLPClassifier(hidden_layer_sizes= (20),\n",
    "                        random_state = seed,\n",
    "                        max_iter=50000, shuffle=False)\n",
    "    clf.fit(X_train, y_train)\n",
    "    \n",
    "    joblib.dump(clf, './best_classifier/MLP_model'+str(ifold)+'.pkl', compress = 1)\n",
    "    models.append(clf)\n",
    "    \n",
    "    y_pred = clf.predict_proba(X_test)\n",
    "    AUROC = roc_auc_score(y_test, y_pred[:, 1])\n",
    "    AUROCs.append(AUROC)\n",
    "    \n",
    "    ACC = clf.score(X_test,y_test)\n",
    "    ACCs.append(ACC)\n",
    "   \n",
    "    print(\"AUROC=\",AUROC,\"ACC=\",ACC, (time.time() - start)/60,\"mins\")"
   ]
  },
  {
   "cell_type": "code",
   "execution_count": 76,
   "metadata": {},
   "outputs": [
    {
     "name": "stdout",
     "output_type": "stream",
     "text": [
      "0.9797887759925722 0.0036823299648140366\n"
     ]
    }
   ],
   "source": [
    "print(np.mean(AUROCs),np.std(AUROCs))"
   ]
  },
  {
   "cell_type": "code",
   "execution_count": 77,
   "metadata": {},
   "outputs": [
    {
     "name": "stdout",
     "output_type": "stream",
     "text": [
      "0.9355921855921855 0.005611958580845595\n"
     ]
    }
   ],
   "source": [
    "print(np.mean(ACCs),np.std(ACCs))"
   ]
  },
  {
   "cell_type": "code",
   "execution_count": 78,
   "metadata": {},
   "outputs": [
    {
     "data": {
      "text/plain": [
       "(1369, 301)"
      ]
     },
     "execution_count": 78,
     "metadata": {},
     "output_type": "execute_result"
    }
   ],
   "source": [
    "dfp.shape"
   ]
  },
  {
   "cell_type": "code",
   "execution_count": 79,
   "metadata": {},
   "outputs": [
    {
     "name": "stdout",
     "output_type": "stream",
     "text": [
      "\n",
      "-> Get X & Y data, Features list\n",
      "Shape (1369, 301)\n",
      "Shape X data: (1369, 300)\n",
      "Shape Y data: (1369,)\n",
      "Done!\n"
     ]
    }
   ],
   "source": [
    "# get ds for ML\n",
    "Xdatap, Ydatap, Featuresp = getDataFromDataFrame(dfp)# out var = Class"
   ]
  },
  {
   "cell_type": "code",
   "execution_count": 80,
   "metadata": {},
   "outputs": [
    {
     "data": {
      "text/plain": [
       "(1369, 300)"
      ]
     },
     "execution_count": 80,
     "metadata": {},
     "output_type": "execute_result"
    }
   ],
   "source": [
    "Xdatap.shape"
   ]
  },
  {
   "cell_type": "code",
   "execution_count": 81,
   "metadata": {},
   "outputs": [],
   "source": [
    "# load the saved model 2 from disk: AUROC= 0.9807692307692308 ACC= 0.9423076923076923 0.014167205492655436\n",
    "clf = joblib.load('./best_classifier/MLP_model'+str(2)+'.pkl')\n",
    "\n",
    "# predictions with the model\n",
    "Ydatap = clf.predict(Xdatap)\n",
    "        \n",
    "# add probabilities (n_samples X n_classes; class 0, class 1)\n",
    "Ydatapprob = clf.predict_proba(Xdatap)\n",
    "        \n",
    "# save predictions for list 1\n",
    "dffp = pd.DataFrame(Xdatap,columns=Featuresp)\n",
    "dffp['Class'] = Ydatap\n",
    "dffp['Prob0'] = Ydatapprob[:,0]\n",
    "dffp['Prob1'] = Ydatapprob[:,1]"
   ]
  },
  {
   "cell_type": "code",
   "execution_count": 82,
   "metadata": {},
   "outputs": [],
   "source": [
    "# merge with protein information from other file\n",
    "# AC.Screening_1_Metastasis.csv, AC.Screening_2_Cancer_Immunotherapy_Genes\n",
    "result = pd.concat([dffp, pd.read_csv('./best_classifier/AC.Screening_3_RBPs.csv')], axis=1)"
   ]
  },
  {
   "cell_type": "code",
   "execution_count": 83,
   "metadata": {},
   "outputs": [],
   "source": [
    "# creat new order of columns in final results\n",
    "newHeader=['Class','Prob1','Prob0','V1','V2']\n",
    "result = result[newHeader]\n",
    "result = result.sort_values(by=['Prob1'], ascending=False)\n",
    "result.to_csv(sFilep[:-4]+'_predictions.csv', index=True)"
   ]
  },
  {
   "cell_type": "markdown",
   "metadata": {},
   "source": [
    "Have fun with ML! @muntisa"
   ]
  }
 ],
 "metadata": {
  "kernelspec": {
   "display_name": "Python 3.7.5 64-bit ('vs': conda)",
   "language": "python",
   "name": "python37564bitvscondaec01181e04c74c6ba3eec280f6535519"
  },
  "language_info": {
   "codemirror_mode": {
    "name": "ipython",
    "version": 3
   },
   "file_extension": ".py",
   "mimetype": "text/x-python",
   "name": "python",
   "nbconvert_exporter": "python",
   "pygments_lexer": "ipython3",
   "version": "3.7.7"
  },
  "latex_envs": {
   "LaTeX_envs_menu_present": true,
   "autoclose": false,
   "autocomplete": true,
   "bibliofile": "biblio.bib",
   "cite_by": "apalike",
   "current_citInitial": 1,
   "eqLabelWithNumbers": true,
   "eqNumInitial": 1,
   "hotkeys": {
    "equation": "Ctrl-E",
    "itemize": "Ctrl-I"
   },
   "labels_anchors": false,
   "latex_user_defs": false,
   "report_style_numbering": false,
   "user_envs_cfg": false
  },
  "nbTranslate": {
   "displayLangs": [
    "ch",
    "en"
   ],
   "hotkey": "alt-t",
   "langInMainMenu": true,
   "sourceLang": "en",
   "targetLang": "ch",
   "useGoogleTranslate": true
  },
  "toc": {
   "base_numbering": 1,
   "nav_menu": {},
   "number_sections": true,
   "sideBar": true,
   "skip_h1_title": false,
   "title_cell": "Table of Contents",
   "title_sidebar": "Contents",
   "toc_cell": false,
   "toc_position": {},
   "toc_section_display": true,
   "toc_window_display": false
  },
  "varInspector": {
   "cols": {
    "lenName": 16,
    "lenType": 16,
    "lenVar": 40
   },
   "kernels_config": {
    "python": {
     "delete_cmd_postfix": "",
     "delete_cmd_prefix": "del ",
     "library": "var_list.py",
     "varRefreshCmd": "print(var_dic_list())"
    },
    "r": {
     "delete_cmd_postfix": ") ",
     "delete_cmd_prefix": "rm(",
     "library": "var_list.r",
     "varRefreshCmd": "cat(var_dic_list()) "
    }
   },
   "types_to_exclude": [
    "module",
    "function",
    "builtin_function_or_method",
    "instance",
    "_Feature"
   ],
   "window_display": false
  }
 },
 "nbformat": 4,
 "nbformat_minor": 4
}
