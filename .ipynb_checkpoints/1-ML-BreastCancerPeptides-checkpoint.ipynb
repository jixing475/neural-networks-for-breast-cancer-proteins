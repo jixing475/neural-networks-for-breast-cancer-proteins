{
 "cells": [
  {
   "cell_type": "markdown",
   "metadata": {},
   "source": [
    "# ML for Breast Cancer Peptides\n",
    "\n",
    "Use of Rcpi descriptors."
   ]
  },
  {
   "cell_type": "code",
   "execution_count": 1,
   "metadata": {},
   "outputs": [],
   "source": [
    "%reload_ext autoreload\n",
    "%autoreload 2\n",
    "%matplotlib inline\n",
    "\n",
    "# remove warnings\n",
    "import warnings\n",
    "warnings.filterwarnings(\"ignore\", category=DeprecationWarning) "
   ]
  },
  {
   "cell_type": "code",
   "execution_count": 2,
   "metadata": {},
   "outputs": [
    {
     "ename": "ModuleNotFoundError",
     "evalue": "No module named 'xgboost'",
     "output_type": "error",
     "traceback": [
      "\u001b[0;31m------------------------------------------------------------------\u001b[0m",
      "\u001b[0;31mModuleNotFoundError\u001b[0m              Traceback (most recent call last)",
      "\u001b[0;32m<ipython-input-2-7de0d25abfe6>\u001b[0m in \u001b[0;36m<module>\u001b[0;34m()\u001b[0m\n\u001b[1;32m     13\u001b[0m \u001b[0;32mfrom\u001b[0m \u001b[0msklearn\u001b[0m\u001b[0;34m.\u001b[0m\u001b[0mtree\u001b[0m \u001b[0;32mimport\u001b[0m \u001b[0mDecisionTreeClassifier\u001b[0m\u001b[0;34m\u001b[0m\u001b[0;34m\u001b[0m\u001b[0m\n\u001b[1;32m     14\u001b[0m \u001b[0;32mfrom\u001b[0m \u001b[0msklearn\u001b[0m\u001b[0;34m.\u001b[0m\u001b[0mensemble\u001b[0m \u001b[0;32mimport\u001b[0m \u001b[0mRandomForestClassifier\u001b[0m\u001b[0;34m,\u001b[0m \u001b[0mExtraTreesClassifier\u001b[0m\u001b[0;34m\u001b[0m\u001b[0;34m\u001b[0m\u001b[0m\n\u001b[0;32m---> 15\u001b[0;31m \u001b[0;32mfrom\u001b[0m \u001b[0mxgboost\u001b[0m \u001b[0;32mimport\u001b[0m \u001b[0mXGBClassifier\u001b[0m\u001b[0;34m\u001b[0m\u001b[0;34m\u001b[0m\u001b[0m\n\u001b[0m\u001b[1;32m     16\u001b[0m \u001b[0;32mfrom\u001b[0m \u001b[0msklearn\u001b[0m\u001b[0;34m.\u001b[0m\u001b[0msvm\u001b[0m \u001b[0;32mimport\u001b[0m \u001b[0mSVC\u001b[0m\u001b[0;34m\u001b[0m\u001b[0;34m\u001b[0m\u001b[0m\n\u001b[1;32m     17\u001b[0m \u001b[0;32mfrom\u001b[0m \u001b[0msklearn\u001b[0m\u001b[0;34m.\u001b[0m\u001b[0mgaussian_process\u001b[0m\u001b[0;34m.\u001b[0m\u001b[0mkernels\u001b[0m \u001b[0;32mimport\u001b[0m \u001b[0mRBF\u001b[0m\u001b[0;34m\u001b[0m\u001b[0;34m\u001b[0m\u001b[0m\n",
      "\u001b[0;31mModuleNotFoundError\u001b[0m: No module named 'xgboost'"
     ]
    }
   ],
   "source": [
    "import numpy as np\n",
    "import pandas as pd\n",
    "import time\n",
    "import matplotlib.pyplot as plt\n",
    "\n",
    "from sklearn.pipeline import Pipeline\n",
    "from sklearn.model_selection import cross_val_score, GridSearchCV, StratifiedKFold\n",
    "from sklearn.metrics import confusion_matrix,accuracy_score, roc_auc_score,f1_score, recall_score, precision_score\n",
    "from sklearn.utils import class_weight\n",
    "\n",
    "from sklearn.neighbors import KNeighborsClassifier\n",
    "from sklearn.linear_model import LogisticRegression, LassoCV\n",
    "from sklearn.tree import DecisionTreeClassifier\n",
    "from sklearn.ensemble import RandomForestClassifier, ExtraTreesClassifier\n",
    "from xgboost import XGBClassifier\n",
    "from sklearn.svm import SVC\n",
    "from sklearn.gaussian_process.kernels import RBF\n",
    "from sklearn.svm import LinearSVC\n",
    "\n",
    "from sklearn.decomposition import PCA\n",
    "from sklearn.preprocessing import StandardScaler, MinMaxScaler, RobustScaler\n",
    "from sklearn.feature_selection import RFECV, VarianceThreshold, SelectKBest, chi2\n",
    "from sklearn.feature_selection import SelectFromModel, SelectPercentile, f_classif\n",
    "\n",
    "import seaborn as sns; sns.set() # data visualization library \n",
    "from sklearn.discriminant_analysis import LinearDiscriminantAnalysis\n",
    "from sklearn.neural_network import MLPClassifier\n",
    "from sklearn.ensemble import GradientBoostingClassifier, BaggingClassifier, AdaBoostClassifier\n",
    "from sklearn.naive_bayes import BernoulliNB, GaussianNB\n",
    "from imblearn.over_sampling import SMOTE"
   ]
  },
  {
   "cell_type": "code",
   "execution_count": 27,
   "metadata": {},
   "outputs": [],
   "source": [
    "from myFunctions import *\n",
    "\n",
    "# define output variables\n",
    "outVar = 'Class'\n",
    "\n",
    "# define list of folds\n",
    "nfold = 3\n",
    "\n",
    "# define a label for output files\n",
    "label = 'Outer'\n",
    "\n",
    "seed = 74"
   ]
  },
  {
   "cell_type": "markdown",
   "metadata": {},
   "source": [
    "## One function ML + preprocessing"
   ]
  },
  {
   "cell_type": "code",
   "execution_count": 101,
   "metadata": {},
   "outputs": [
    {
     "name": "stdout",
     "output_type": "stream",
     "text": [
      "\n",
      "-> Read dataset ./datasets/Mix_BreastCancer.csv\n",
      "\n",
      "-> Modify dataset\n",
      "Done!\n",
      "\n",
      "-> Drop ProtID column\n",
      "Done!\n",
      "\n",
      "-> Dataset preprocessing\n",
      "Inicial shape: (376, 8741)\n",
      "Data points = 376\n",
      "Columns (output + features)= 8741\n",
      "Data types = [dtype('float64') dtype('int64')]\n",
      "\n",
      "\n",
      "Column Names:\n",
      " Index(['A', 'R', 'N', 'D', 'C', 'E', 'Q', 'G', 'H', 'I',\n",
      "       ...\n",
      "       'DAYM780201.lag22', 'DAYM780201.lag23', 'DAYM780201.lag24',\n",
      "       'DAYM780201.lag25', 'DAYM780201.lag26', 'DAYM780201.lag27',\n",
      "       'DAYM780201.lag28', 'DAYM780201.lag29', 'DAYM780201.lag30', 'Class'],\n",
      "      dtype='object', length=8741)\n",
      "Categorical features: []\n",
      "Columns with NaN:  0  /  8741\n",
      "No of data points with NaN: 0  /  376\n",
      "* Remove duplicates\n",
      "Final shape: (376, 8741)\n",
      "Done!\n",
      "\n",
      "-> Get X & Y data, Features list\n",
      "Shape (376, 8741)\n",
      "Shape X data: (376, 8740)\n",
      "Shape Y data: (376,)\n",
      "Done!\n",
      "\n",
      "-> Remove zero variance features\n",
      "Removed features: ['WWV', 'WCC', 'WCH', 'CNW', 'MYM', 'CMH', 'WHH', 'WQM', 'WIW', 'WWM', 'WGC', 'YCW', 'PWY', 'IHW', 'WWH', 'MWW', 'AWW', 'CMW', 'WWC', 'YWW', 'MWH', 'HWW', 'WHD', 'NWH', 'WCK', 'HWF', 'WMF', 'IWW', 'MWP', 'QWW', 'WMW', 'VMW']\n",
      "Done!\n",
      "\n",
      "-> Save raw dataset: ./datasets/Mix_BreastCancer.ds_raw.csv\n",
      "Done!\n",
      "\n",
      "-> Get X & Y data, Features list\n",
      "Shape (376, 8709)\n",
      "Shape X data: (376, 8708)\n",
      "Shape Y data: (376,)\n",
      "Done!\n",
      "* Save scaler: ./datasets/Mix_BreastCancer.scaler_MinMax.pkl\n",
      "* Save scaled dataset: ./datasets/Mix_BreastCancer.ds_m.csv\n",
      "Done!\n",
      "\n",
      "-> Get X & Y data, Features list\n",
      "Shape (376, 8709)\n",
      "Shape X data: (376, 8708)\n",
      "Shape Y data: (376,)\n",
      "Done!\n",
      "\n",
      "-> Univariate Feature selection\n",
      "* Save selector: ./datasets/Mix_BreastCancer.featSelector_Univariate300.pkl\n",
      "Final columns: ['MN', 'LG', 'QI', 'NK', 'EM', 'QM', 'MM', 'EY', 'FAA', 'FNA', 'PNA', 'MDA', 'YHA', 'YKA', 'WFA', 'GPA', 'NTA', 'EYA', 'PAR', 'QDR', 'KER', 'SQR', 'QGR', 'LLR', 'HKR', 'TKR', 'TMR', 'YMR', 'MFR', 'EAN', 'HAN', 'MRN', 'SNN', 'EDN', 'QCN', 'QQN', 'GQN', 'PGN', 'IHN', 'NKN', 'HKN', 'LKN', 'AMN', 'TMN', 'VMN', 'MPN', 'PSN', 'YTN', 'KWN', 'PWN', 'EYN', 'PYN', 'LVN', 'PVN', 'SVN', 'VAD', 'HRD', 'IND', 'PDD', 'IQD', 'NHD', 'YHD', 'NID', 'HFD', 'ITD', 'RYD', 'IYD', 'QRC', 'DNC', 'SNC', 'MDC', 'AQC', 'CGC', 'MGC', 'VHC', 'CKC', 'IKC', 'SKC', 'MMC', 'PFC', 'MPC', 'MVC', 'FVC', 'FDE', 'YDE', 'SQE', 'TQE', 'RHE', 'MHE', 'HIE', 'FKE', 'EME', 'QME', 'LME', 'MME', 'VME', 'SFE', 'DAQ', 'TNQ', 'IDQ', 'DCQ', 'KCQ', 'GLQ', 'FKQ', 'AMQ', 'CMQ', 'VPQ', 'PSQ', 'IWQ', 'YWQ', 'CYQ', 'IAG', 'PAG', 'MNG', 'VGG', 'ALG', 'FLG', 'VLG', 'WMG', 'DFG', 'PFG', 'CTG', 'FWG', 'PWG', 'TVG', 'FAH', 'INH', 'PCH', 'VQH', 'CGH', 'CKH', 'IKH', 'SKH', 'MFH', 'WFH', 'HTH', 'RWH', 'FWH', 'GYH', 'RVH', 'KRI', 'MRI', 'AQI', 'LQI', 'NHI', 'NII', 'QII', 'CKI', 'YKI', 'IPI', 'WSI', 'EYI', 'LYI', 'MVI', 'RDL', 'TCL', 'CQL', 'HQL', 'MQL', 'GGL', 'LGL', 'HLL', 'HML', 'QWL', 'EYL', 'GVL', 'IVL', 'HAK', 'KNK', 'VNK', 'SCK', 'TQK', 'KHK', 'VHK', 'QIK', 'PIK', 'DLK', 'MMK', 'EPK', 'HTK', 'CWK', 'DVK', 'WAM', 'HRM', 'QNM', 'PNM', 'VDM', 'AEM', 'EEM', 'QQM', 'QGM', 'RIM', 'CIM', 'QLM', 'ILM', 'HKM', 'AMM', 'NMM', 'CFM', 'NTM', 'TTM', 'VTM', 'CWM', 'EWM', 'FYM', 'TAF', 'YCF', 'AEF', 'RQF', 'VGF', 'PKF', 'AMF', 'YFF', 'HTF', 'GYF', 'DAP', 'MNP', 'SNP', 'RGP', 'QGP', 'PGP', 'VGP', 'WLP', 'DKP', 'IKP', 'LKP', 'CMP', 'IFP', 'QTP', 'KTP', 'IWP', 'MNS', 'KQS', 'WGS', 'CHS', 'MMS', 'TMS', 'LNT', 'DCT', 'CQT', 'PQT', 'FHT', 'IIT', 'PIT', 'GLT', 'MLT', 'VLT', 'MKT', 'WKT', 'TMT', 'IFT', 'MPT', 'EWT', 'QWT', 'KWT', 'EYT', 'GAW', 'LNW', 'ADW', 'HCW', 'NEW', 'EEW', 'YEW', 'DQW', 'QHW', 'GIW', 'HIW', 'LLW', 'IKW', 'VKW', 'FPW', 'RTW', 'VTW', 'WYW', 'DVW', 'SVW', 'NDY', 'PDY', 'ECY', 'GCY', 'MEY', 'TEY', 'EIY', 'KIY', 'PIY', 'EMY', 'MPY', 'TPY', 'HWY', 'KNV', 'VNV', 'NDV', 'KCV', 'GHV', 'GLV', 'MMV', 'VFV', 'IYV', 'Pc1.N', 'Pc1.M', 'Class']\n",
      "* Save selected features dataset: ./datasets/Mix_BreastCancer.ds_sel.csv\n",
      "Done!\n",
      "\n",
      " NO PCA reduction!\n",
      "\n",
      "-> Get X & Y data, Features list\n",
      "Shape (376, 301)\n",
      "Shape X data: (376, 300)\n",
      "Shape Y data: (376,)\n",
      "Done!\n",
      "\n",
      "-> Dataframe SMOTE balancing\n",
      "Initial dimensions: (376, 301)\n",
      "Final shape: (466, 301)\n",
      "* Save balanced dataset: ./datasets/Mix_BreastCancer.ds_bal.csv\n",
      "Done!\n",
      "\n",
      "-> Get X & Y data, Features list\n",
      "Shape (466, 301)\n",
      "Shape X data: (466, 300)\n",
      "Shape Y data: (466,)\n",
      "Done!\n",
      "Class weights =  {0: 1.0, 1: 1.0}\n",
      "* Building scaling+feature selection+outer 3-fold CV for 13 classifiers: ['NB', 'KNN', 'LDA', 'SVM linear', 'SVM', 'LR', 'MLP', 'DT', 'RF', 'XGB', 'GB', 'AdaB', 'Bagging']\n",
      "ML method, Mean, SD, Time (min)\n",
      "NB, 0.910, 0.0448, 0.0\n",
      "KNN, 0.676, 0.0512, 0.0\n",
      "LDA, 0.589, 0.0677, 0.0\n",
      "SVM linear, 0.971, 0.0106, 0.0\n",
      "SVM, 0.963, 0.0224, 0.0\n",
      "LR, 0.976, 0.0084, 0.0\n",
      "MLP, 0.980, 0.0037, 0.0\n",
      "DT, 0.698, 0.0329, 0.0\n",
      "RF, 0.910, 0.0358, 0.0\n",
      "XGB, 0.899, 0.0190, 0.0\n",
      "GB, 0.903, 0.0198, 0.0\n",
      "AdaB, 0.857, 0.0176, 0.0\n",
      "Bagging, 0.867, 0.0143, 0.0\n",
      "Total time: 0.16315635840098064  mins\n",
      "\n",
      "==>> Saving summary ./results/Mix_BreastCancer.m.bal_pool_8708.csv\n",
      "==> Fold = 3\n"
     ]
    },
    {
     "data": {
      "text/plain": [
       "<Figure size 432x288 with 0 Axes>"
      ]
     },
     "metadata": {},
     "output_type": "display_data"
    },
    {
     "data": {
      "image/png": "[encoded data removed]",
      "text/plain": [
       "<Figure size 1152x864 with 1 Axes>"
      ]
     },
     "metadata": {},
     "output_type": "display_data"
    }
   ],
   "source": [
    "sFile = './datasets/Mix_BreastCancer.csv'\n",
    "summaryFile = './results/Mix_BreastCancer.m.bal_pool_8708.csv'\n",
    "boxplotFile = './results/Mix_BreastCancer.m.bal_pool_8708.png'\n",
    "MyML(sFile, summaryFile, boxplotFile, nSel=300, nPCA=0, outVar='Class', nfold=3, seed=74)"
   ]
  },
  {
   "cell_type": "markdown",
   "metadata": {},
   "source": [
    "Have fun with ML! @muntisa"
   ]
  },
  {
   "cell_type": "code",
   "execution_count": null,
   "metadata": {},
   "outputs": [],
   "source": []
  }
 ],
 "metadata": {
  "kernelspec": {
   "display_name": "Python 3",
   "language": "python",
   "name": "python3"
  },
  "language_info": {
   "codemirror_mode": {
    "name": "ipython",
    "version": 3
   },
   "file_extension": ".py",
   "mimetype": "text/x-python",
   "name": "python",
   "nbconvert_exporter": "python",
   "pygments_lexer": "ipython3",
   "version": "3.6.8"
  },
  "latex_envs": {
   "LaTeX_envs_menu_present": true,
   "autoclose": false,
   "autocomplete": true,
   "bibliofile": "biblio.bib",
   "cite_by": "apalike",
   "current_citInitial": 1,
   "eqLabelWithNumbers": true,
   "eqNumInitial": 1,
   "hotkeys": {
    "equation": "Ctrl-E",
    "itemize": "Ctrl-I"
   },
   "labels_anchors": false,
   "latex_user_defs": false,
   "report_style_numbering": false,
   "user_envs_cfg": false
  },
  "nbTranslate": {
   "displayLangs": [
    "ch",
    "en"
   ],
   "hotkey": "alt-t",
   "langInMainMenu": true,
   "sourceLang": "en",
   "targetLang": "ch",
   "useGoogleTranslate": true
  },
  "toc": {
   "base_numbering": 1,
   "nav_menu": {},
   "number_sections": true,
   "sideBar": true,
   "skip_h1_title": false,
   "title_cell": "Table of Contents",
   "title_sidebar": "Contents",
   "toc_cell": false,
   "toc_position": {},
   "toc_section_display": true,
   "toc_window_display": false
  },
  "varInspector": {
   "cols": {
    "lenName": 16,
    "lenType": 16,
    "lenVar": 40
   },
   "kernels_config": {
    "python": {
     "delete_cmd_postfix": "",
     "delete_cmd_prefix": "del ",
     "library": "var_list.py",
     "varRefreshCmd": "print(var_dic_list())"
    },
    "r": {
     "delete_cmd_postfix": ") ",
     "delete_cmd_prefix": "rm(",
     "library": "var_list.r",
     "varRefreshCmd": "cat(var_dic_list()) "
    }
   },
   "types_to_exclude": [
    "module",
    "function",
    "builtin_function_or_method",
    "instance",
    "_Feature"
   ],
   "window_display": false
  }
 },
 "nbformat": 4,
 "nbformat_minor": 4
}
